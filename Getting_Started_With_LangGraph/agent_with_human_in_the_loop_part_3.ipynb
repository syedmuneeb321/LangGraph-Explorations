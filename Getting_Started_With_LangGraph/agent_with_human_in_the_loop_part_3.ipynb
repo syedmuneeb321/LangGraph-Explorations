{
  "nbformat": 4,
  "nbformat_minor": 0,
  "metadata": {
    "colab": {
      "provenance": [],
      "gpuType": "T4",
      "authorship_tag": "ABX9TyP7IREPrBmIWMtZJIAZ7MHn",
      "include_colab_link": true
    },
    "kernelspec": {
      "name": "python3",
      "display_name": "Python 3"
    },
    "language_info": {
      "name": "python"
    },
    "accelerator": "GPU"
  },
  "cells": [
    {
      "cell_type": "markdown",
      "metadata": {
        "id": "view-in-github",
        "colab_type": "text"
      },
      "source": [
        "<a href=\"https://colab.research.google.com/github/syedmuneeb321/LangGraph-Explorations/blob/main/Getting_Started_With_LangGraph/agent_with_human_in_the_loop_part_3.ipynb\" target=\"_parent\"><img src=\"https://colab.research.google.com/assets/colab-badge.svg\" alt=\"Open In Colab\"/></a>"
      ]
    },
    {
      "cell_type": "code",
      "execution_count": 7,
      "metadata": {
        "id": "E0-uw0YtUCmR"
      },
      "outputs": [],
      "source": [
        "%%capture --no-stderr\n",
        "%pip install -U langgraph langsmith langchain_google_genai tavily-python langchain_community"
      ]
    },
    {
      "cell_type": "code",
      "source": [
        "import os\n",
        "from google.colab import userdata\n",
        "\n",
        "os.environ[\"LANGCHAIN_API_KEY\"] = userdata.get('LANGCHAIN_API_KEY')\n",
        "os.environ[\"LANGCHAIN_TRACING_V2\"] = \"true\"\n",
        "os.environ[\"LANGCHAIN_PROJECT\"] = \"quickstart\"\n",
        "os.environ[\"TAVILY_API_KEY\"] = userdata.get(\"TAVILY_API_KEY\")\n",
        "\n",
        "gemini_api_key = userdata.get('GOOGLE_API_KEY')"
      ],
      "metadata": {
        "id": "VyIzIKG3USIY"
      },
      "execution_count": 8,
      "outputs": []
    },
    {
      "cell_type": "code",
      "source": [
        "from langchain_google_genai import ChatGoogleGenerativeAI\n",
        "\n",
        "llm = ChatGoogleGenerativeAI(\n",
        "    model=\"gemini-1.5-flash\",\n",
        "    max_retries=2,\n",
        "    api_key=gemini_api_key\n",
        ")\n"
      ],
      "metadata": {
        "id": "9iJaPMnKUVQw"
      },
      "execution_count": 9,
      "outputs": []
    },
    {
      "cell_type": "code",
      "source": [
        "from pydantic import BaseModel\n",
        "\n",
        "class RequestAssistance(BaseModel):\n",
        "  \"\"\"\n",
        "  Escalate the conversation to an expert. Use this if you are unable to assist directly or if the user requires support beyond your permissions.\n",
        "\n",
        "  To use this function, relay the user's 'request' so the expert can provide the right guidance.\n",
        "  \"\"\"\n",
        "\n",
        "  request: str\n"
      ],
      "metadata": {
        "id": "loyKpoVEE6wF"
      },
      "execution_count": 10,
      "outputs": []
    },
    {
      "cell_type": "code",
      "source": [
        "from langchain_community.tools import TavilySearchResults\n",
        "tool = TavilySearchResults(max_results=2)\n",
        "llm_with_tool = llm.bind_tools([tool,RequestAssistance])"
      ],
      "metadata": {
        "id": "x5TgTLTyUaNS"
      },
      "execution_count": 11,
      "outputs": []
    },
    {
      "cell_type": "code",
      "source": [
        "display(llm_with_tool)"
      ],
      "metadata": {
        "colab": {
          "base_uri": "https://localhost:8080/",
          "height": 165
        },
        "id": "hzHqp_sPGnYR",
        "outputId": "14f464a5-caf1-4de5-bbc3-83e4bf4381d7"
      },
      "execution_count": 12,
      "outputs": [
        {
          "output_type": "display_data",
          "data": {
            "text/plain": [
              "RunnableBinding(bound=ChatGoogleGenerativeAI(model='models/gemini-1.5-flash', google_api_key=SecretStr('**********'), max_retries=2, client=<google.ai.generativelanguage_v1beta.services.generative_service.client.GenerativeServiceClient object at 0x7d271e66f580>, default_metadata=()), kwargs={'tools': [{'type': 'function', 'function': {'name': 'tavily_search_results_json', 'description': 'A search engine optimized for comprehensive, accurate, and trusted results. Useful for when you need to answer questions about current events. Input should be a search query.', 'parameters': {'properties': {'query': {'description': 'search query to look up', 'type': 'string'}}, 'required': ['query'], 'type': 'object'}}}, {'type': 'function', 'function': {'name': 'RequestAssistance', 'description': \"Escalate the conversation to an expert. Use this if you are unable to assist directly or if the user requires support beyond your permissions.\\n\\nTo use this function, relay the user's 'request' so the expert can provide the right guidance.\", 'parameters': {'properties': {'request': {'type': 'string'}}, 'required': ['request'], 'type': 'object'}}}]}, config={}, config_factories=[])"
            ]
          },
          "metadata": {}
        }
      ]
    },
    {
      "cell_type": "code",
      "source": [
        "from typing import Annotated\n",
        "from typing_extensions import TypedDict\n",
        "from langgraph.graph.message import add_messages\n",
        "# make a state\n",
        "class State(TypedDict):\n",
        "  messages: Annotated[list,add_messages]\n",
        "  ask_human: bool"
      ],
      "metadata": {
        "id": "x3qf8_5w3Gz3"
      },
      "execution_count": 13,
      "outputs": []
    },
    {
      "cell_type": "code",
      "source": [
        "def chat_bot(state:State)->State:\n",
        "  response = llm_with_tool.invoke(state[\"messages\"])\n",
        "  ask_human = False\n",
        "  if (response.tool_calls and response.tool_calls[0][\"name\"] == RequestAssistance.__name__):\n",
        "    ask_human = True\n",
        "\n",
        "\n",
        "  return {\"messages\":[response],\"ask_human\":ask_human}"
      ],
      "metadata": {
        "id": "5PZH937u32ST"
      },
      "execution_count": 14,
      "outputs": []
    },
    {
      "cell_type": "code",
      "source": [
        "from langchain_core.messages import AIMessage, ToolMessage\n",
        "\n",
        "\n",
        "def create_response(response: str, ai_message: AIMessage):\n",
        "    return ToolMessage(\n",
        "        content=response,\n",
        "        tool_call_id=ai_message.tool_calls[0][\"id\"],\n",
        "    )"
      ],
      "metadata": {
        "id": "kP0PBmeqImEV"
      },
      "execution_count": 15,
      "outputs": []
    },
    {
      "cell_type": "code",
      "source": [
        "def human_node(state:State)->State:\n",
        "  new_messages = []\n",
        "  if not isinstance(state[\"messages\"][-1],ToolMessage):\n",
        "     new_messages.append(\n",
        "            create_response(\"No response from human.\", state[\"messages\"][-1])\n",
        "      )\n",
        "\n",
        "  return {\n",
        "      \"messages\":new_messages,\n",
        "      \"ask_human\":False\n",
        "  }\n"
      ],
      "metadata": {
        "id": "QKYuYM7tHvoD"
      },
      "execution_count": 16,
      "outputs": []
    },
    {
      "cell_type": "code",
      "source": [
        "from langgraph.prebuilt import ToolNode,tools_condition\n",
        "def select_next_node(state:State):\n",
        "  if state[\"ask_human\"]:\n",
        "    return \"human_node\"\n",
        "  return tools_condition(state)"
      ],
      "metadata": {
        "id": "Wb9Rh1oQI_I7"
      },
      "execution_count": 17,
      "outputs": []
    },
    {
      "cell_type": "code",
      "source": [
        "from langgraph.graph import StateGraph,START,END\n",
        "\n",
        "from langgraph.checkpoint.memory import MemorySaver\n",
        "\n",
        "graph_builder = StateGraph(State)\n",
        "\n",
        "graph_builder.add_node(\"chat_bot\",chat_bot)\n",
        "graph_builder.add_node(\"tools\",ToolNode(tools=[tool]))\n",
        "graph_builder.add_node(\"human_node\",human_node)\n",
        "\n",
        "# logic\n",
        "\n",
        "graph_builder.add_edge(START,\"chat_bot\")\n",
        "graph_builder.add_conditional_edges(\"chat_bot\",select_next_node,{\"tools\":\"tools\",\"human_node\":\"human_node\",END:END})\n",
        "graph_builder.add_edge(\"tools\",\"chat_bot\")\n",
        "graph_builder.add_edge(\"human_node\",\"chat_bot\")\n",
        "\n",
        "\n",
        "memory = MemorySaver()\n",
        "\n",
        "app = graph_builder.compile(checkpointer=memory,interrupt_before=[\"human_node\"])\n",
        "\n"
      ],
      "metadata": {
        "id": "JXJEjGY14FYq"
      },
      "execution_count": 18,
      "outputs": []
    },
    {
      "cell_type": "code",
      "source": [
        "from IPython.display import Image, display\n",
        "\n",
        "try:\n",
        "    display(Image(app.get_graph().draw_mermaid_png()))\n",
        "except Exception:\n",
        "    # This requires some extra dependencies and is optional\n",
        "    pass"
      ],
      "metadata": {
        "id": "-6XetR3G5qRN",
        "colab": {
          "base_uri": "https://localhost:8080/",
          "height": 308
        },
        "outputId": "9661f723-0f47-450a-d740-aefc2960262c"
      },
      "execution_count": 19,
      "outputs": [
        {
          "output_type": "display_data",
          "data": {
            "image/jpeg": "[encoded data removed]",
            "text/plain": [
              "<IPython.core.display.Image object>"
            ]
          },
          "metadata": {}
        }
      ]
    },
    {
      "cell_type": "code",
      "source": [
        "# input = {\"messages\":[(\"user\",\"what is langgraph\")]}\n",
        "config = {\"configurable\":{\"thread_id\":\"1\"}}"
      ],
      "metadata": {
        "id": "pct98-l85rOv"
      },
      "execution_count": 20,
      "outputs": []
    },
    {
      "cell_type": "code",
      "source": [
        "events = app.stream({\"messages\":[(\"user\",\"I need some expert guidance for building this AI agent. Could you request assistance for me?\")]},config,stream_mode=\"values\")\n",
        "# events = graph.stream({\"messages\": [(\"user\", user_input)]}, config)\n",
        "for event in events:\n",
        "    if \"messages\" in event:\n",
        "        event[\"messages\"][-1].pretty_print()"
      ],
      "metadata": {
        "id": "9JjZlfJ8ucI1",
        "colab": {
          "base_uri": "https://localhost:8080/"
        },
        "outputId": "59fb9126-e112-4801-cf25-dd5aa4a8dfe1"
      },
      "execution_count": 21,
      "outputs": [
        {
          "output_type": "stream",
          "name": "stdout",
          "text": [
            "================================\u001b[1m Human Message \u001b[0m=================================\n",
            "\n",
            "I need some expert guidance for building this AI agent. Could you request assistance for me?\n",
            "==================================\u001b[1m Ai Message \u001b[0m==================================\n",
            "Tool Calls:\n",
            "  RequestAssistance (adbfa5ba-8b3e-46a2-aa01-881fd20213c5)\n",
            " Call ID: adbfa5ba-8b3e-46a2-aa01-881fd20213c5\n",
            "  Args:\n",
            "    request: I need some expert guidance for building this AI agent.\n"
          ]
        }
      ]
    },
    {
      "cell_type": "code",
      "source": [
        "snapshot = app.get_state(config)\n",
        "existing_message = snapshot.values[\"messages\"][-1]\n",
        "existing_message.pretty_print()\n",
        "\n"
      ],
      "metadata": {
        "colab": {
          "base_uri": "https://localhost:8080/"
        },
        "id": "ON-78M0q5Frz",
        "outputId": "299d40f9-3fa1-4fe8-ac7a-759fd6965050"
      },
      "execution_count": 22,
      "outputs": [
        {
          "output_type": "stream",
          "name": "stdout",
          "text": [
            "==================================\u001b[1m Ai Message \u001b[0m==================================\n",
            "Tool Calls:\n",
            "  RequestAssistance (adbfa5ba-8b3e-46a2-aa01-881fd20213c5)\n",
            " Call ID: adbfa5ba-8b3e-46a2-aa01-881fd20213c5\n",
            "  Args:\n",
            "    request: I need some expert guidance for building this AI agent.\n"
          ]
        }
      ]
    },
    {
      "cell_type": "code",
      "source": [
        "expert_message = \"We, the experts are here to help! We'd recommend you check out LangGraph to build your agent.It's much more reliable and extensible than simple autonomous agents.\"\n",
        "\n",
        "new_message = create_response(expert_message,existing_message)\n",
        "app.update_state(config,{\"messages\":[new_message]})\n",
        "\n",
        "\n",
        ""
      ],
      "metadata": {
        "colab": {
          "base_uri": "https://localhost:8080/"
        },
        "id": "UhvRg1xdKgQG",
        "outputId": "18465b08-f8f6-492b-80a6-722af062d363"
      },
      "execution_count": 24,
      "outputs": [
        {
          "output_type": "execute_result",
          "data": {
            "text/plain": [
              "{'configurable': {'thread_id': '1',\n",
              "  'checkpoint_ns': '',\n",
              "  'checkpoint_id': '1ef9c2fc-65c3-6905-8002-11100b3f5d8d'}}"
            ]
          },
          "metadata": {},
          "execution_count": 24
        }
      ]
    },
    {
      "cell_type": "code",
      "source": [
        "snapshot = app.get_state(config)\n",
        "snapshot.next"
      ],
      "metadata": {
        "colab": {
          "base_uri": "https://localhost:8080/"
        },
        "id": "oe8pQsF_K5L2",
        "outputId": "5ff589da-20dd-4e9b-f7d3-842ee44048dc"
      },
      "execution_count": 25,
      "outputs": [
        {
          "output_type": "execute_result",
          "data": {
            "text/plain": [
              "('human_node',)"
            ]
          },
          "metadata": {},
          "execution_count": 25
        }
      ]
    },
    {
      "cell_type": "code",
      "source": [
        "events = app.stream(None,config,stream_mode=\"values\")\n",
        "# events = graph.stream({\"messages\": [(\"user\", user_input)]}, config)\n",
        "for event in events:\n",
        "    if \"messages\" in event:\n",
        "        event[\"messages\"][-1].pretty_print()"
      ],
      "metadata": {
        "colab": {
          "base_uri": "https://localhost:8080/"
        },
        "id": "us-KP1-tK8yJ",
        "outputId": "1d6175f0-ab37-4b31-bb56-7482f3b29cb5"
      },
      "execution_count": 26,
      "outputs": [
        {
          "output_type": "stream",
          "name": "stdout",
          "text": [
            "=================================\u001b[1m Tool Message \u001b[0m=================================\n",
            "\n",
            "We, the experts are here to help! We'd recommend you check out LangGraph to build your agent.It's much more reliable and extensible than simple autonomous agents.\n",
            "=================================\u001b[1m Tool Message \u001b[0m=================================\n",
            "\n",
            "We, the experts are here to help! We'd recommend you check out LangGraph to build your agent.It's much more reliable and extensible than simple autonomous agents.\n",
            "==================================\u001b[1m Ai Message \u001b[0m==================================\n",
            "\n",
            "Okay, I've requested assistance from an expert. They recommend you check out LangGraph to build your AI agent. It's supposedly more reliable and extensible than simple autonomous agents.\n"
          ]
        }
      ]
    },
    {
      "cell_type": "code",
      "source": [
        "snapshot = app.get_state(config)\n",
        "snapshot.next"
      ],
      "metadata": {
        "id": "2fDpCQCE9c04",
        "colab": {
          "base_uri": "https://localhost:8080/"
        },
        "outputId": "81458568-4fbf-41ca-9052-4cdf018359c3"
      },
      "execution_count": 27,
      "outputs": [
        {
          "output_type": "execute_result",
          "data": {
            "text/plain": [
              "()"
            ]
          },
          "metadata": {},
          "execution_count": 27
        }
      ]
    }
  ]
}