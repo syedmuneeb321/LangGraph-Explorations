{
  "nbformat": 4,
  "nbformat_minor": 0,
  "metadata": {
    "colab": {
      "provenance": [],
      "authorship_tag": "ABX9TyN+1RsV0JxU9OE2jWIV1K8M",
      "include_colab_link": true
    },
    "kernelspec": {
      "name": "python3",
      "display_name": "Python 3"
    },
    "language_info": {
      "name": "python"
    }
  },
  "cells": [
    {
      "cell_type": "markdown",
      "metadata": {
        "id": "view-in-github",
        "colab_type": "text"
      },
      "source": [
        "<a href=\"https://colab.research.google.com/github/syedmuneeb321/LangGraph-Explorations/blob/main/Getting_Started_With_LangGraph/basic_chatbot.ipynb\" target=\"_parent\"><img src=\"https://colab.research.google.com/assets/colab-badge.svg\" alt=\"Open In Colab\"/></a>"
      ]
    },
    {
      "cell_type": "code",
      "execution_count": null,
      "metadata": {
        "id": "VryhfNoEuG3j"
      },
      "outputs": [],
      "source": [
        "%%capture --no-stderr\n",
        "%pip install -U langgraph langsmith langchain_google_genai"
      ]
    },
    {
      "cell_type": "code",
      "source": [
        "import os\n",
        "from google.colab import userdata\n",
        "\n",
        "os.environ[\"LANGCHAIN_API_KEY\"] = userdata.get('LANGCHAIN_API_KEY')\n",
        "os.environ[\"LANGCHAIN_TRACING_V2\"] = \"true\"\n",
        "os.environ[\"LANGCHAIN_PROJECT\"] = userdata.get('LANGCHAIN_PROJECT')\n",
        "\n",
        "gemini_api_key = userdata.get('GOOGLE_API_KEY')"
      ],
      "metadata": {
        "id": "kKPaLh0Ku_PW"
      },
      "execution_count": null,
      "outputs": []
    },
    {
      "cell_type": "code",
      "source": [
        "from langchain_google_genai import ChatGoogleGenerativeAI\n",
        "from langchain_core.output_parsers import StrOutputParser\n",
        "llm = ChatGoogleGenerativeAI(\n",
        "    model=\"gemini-1.5-flash\",\n",
        "    max_retries=2,\n",
        "    api_key=gemini_api_key\n",
        ")\n",
        "\n",
        "chain = llm | StrOutputParser()\n",
        "chain.invoke(\"greet me\")"
      ],
      "metadata": {
        "colab": {
          "base_uri": "https://localhost:8080/",
          "height": 55
        },
        "id": "I634QZ_1vbgL",
        "outputId": "ac0a5e8a-f230-405a-8201-bb96120ff4d2"
      },
      "execution_count": null,
      "outputs": [
        {
          "output_type": "execute_result",
          "data": {
            "text/plain": [
              "'Hello there! How can I help you today? \\n'"
            ],
            "application/vnd.google.colaboratory.intrinsic+json": {
              "type": "string"
            }
          },
          "metadata": {},
          "execution_count": 5
        }
      ]
    },
    {
      "cell_type": "code",
      "source": [
        "from typing import Annotated\n",
        "from typing_extensions import TypedDict\n",
        "from langgraph.graph import StateGraph,START,END\n",
        "from langgraph.graph.message import add_messages"
      ],
      "metadata": {
        "id": "lbFPp8MvvxsN"
      },
      "execution_count": null,
      "outputs": []
    },
    {
      "cell_type": "code",
      "source": [
        "new_messages_1 = [{\"role\": \"user\", \"content\": \"Hello\"}]\n",
        "new_messages_2 = [{\"role\": \"ai\", \"content\": \"Hi there!\"}]\n",
        "new_message3 = [\"hello bor\",\"hi\"]\n",
        "final_messages = add_messages(new_messages_1, new_message3)\n",
        "next_message = add_messages(final_messages, new_messages_2)\n",
        "print(final_messages)\n",
        "display(next_message)"
      ],
      "metadata": {
        "colab": {
          "base_uri": "https://localhost:8080/",
          "height": 124
        },
        "id": "WSkPbgQp8o8P",
        "outputId": "b3b35ff6-313c-4c60-b443-09877e17519c"
      },
      "execution_count": null,
      "outputs": [
        {
          "output_type": "stream",
          "name": "stdout",
          "text": [
            "[HumanMessage(content='Hello', additional_kwargs={}, response_metadata={}, id='62a9d1fb-3caf-46da-9ee6-f4437258a22a'), HumanMessage(content='hello bor', additional_kwargs={}, response_metadata={}, id='9097af96-7985-4a55-b29f-cf2b17362abd'), HumanMessage(content='hi', additional_kwargs={}, response_metadata={}, id='257c1e6c-f751-49e7-b7e7-67ce80b3770d')]\n"
          ]
        },
        {
          "output_type": "display_data",
          "data": {
            "text/plain": [
              "[HumanMessage(content='Hello', additional_kwargs={}, response_metadata={}, id='62a9d1fb-3caf-46da-9ee6-f4437258a22a'),\n",
              " HumanMessage(content='hello bor', additional_kwargs={}, response_metadata={}, id='9097af96-7985-4a55-b29f-cf2b17362abd'),\n",
              " HumanMessage(content='hi', additional_kwargs={}, response_metadata={}, id='257c1e6c-f751-49e7-b7e7-67ce80b3770d'),\n",
              " AIMessage(content='Hi there!', additional_kwargs={}, response_metadata={}, id='3288799e-a7d5-4e40-b9d8-0aa98ea7a012')]"
            ]
          },
          "metadata": {}
        }
      ]
    },
    {
      "cell_type": "code",
      "source": [
        "# create a state\n",
        "\n",
        "class State(TypedDict):\n",
        "  messages: Annotated[list,add_messages]\n",
        "\n",
        "\n"
      ],
      "metadata": {
        "id": "7pH9UIGk6lX8"
      },
      "execution_count": null,
      "outputs": []
    },
    {
      "cell_type": "code",
      "source": [
        "# create a node\n",
        "\n",
        "def chat_bot(state:State)->State:\n",
        "  return {\"messages\":[llm.invoke(state[\"messages\"])]}"
      ],
      "metadata": {
        "id": "GciJYCbk-sSf"
      },
      "execution_count": null,
      "outputs": []
    },
    {
      "cell_type": "code",
      "source": [
        "state_builder = StateGraph(State)\n",
        "state_builder.add_node(\"chat_bot\",chat_bot)\n",
        "\n",
        "state_builder.add_edge(START,\"chat_bot\")\n",
        "state_builder.add_edge(\"chat_bot\",END)\n",
        "\n",
        "app = state_builder.compile()\n"
      ],
      "metadata": {
        "id": "ZQjY10yV6zTn"
      },
      "execution_count": null,
      "outputs": []
    },
    {
      "cell_type": "code",
      "source": [
        "from IPython.display import Image, display\n",
        "\n",
        "try:\n",
        "    display(Image(app.get_graph().draw_mermaid_png()))\n",
        "except Exception:\n",
        "    # This requires some extra dependencies and is optional\n",
        "    pass"
      ],
      "metadata": {
        "colab": {
          "base_uri": "https://localhost:8080/",
          "height": 271
        },
        "id": "rFklRZJP_pFD",
        "outputId": "2a4662e8-7bb8-4ed2-b089-0d5a3ab0798d"
      },
      "execution_count": null,
      "outputs": [
        {
          "output_type": "display_data",
          "data": {
            "image/jpeg": "[encoded data removed]",
            "text/plain": [
              "<IPython.core.display.Image object>"
            ]
          },
          "metadata": {}
        }
      ]
    },
    {
      "cell_type": "code",
      "source": [
        "display(app.get_graph())"
      ],
      "metadata": {
        "colab": {
          "base_uri": "https://localhost:8080/",
          "height": 106
        },
        "id": "JvuTo7xi_3oD",
        "outputId": "cde12c72-c903-49dc-c83c-56f3d36a35df"
      },
      "execution_count": null,
      "outputs": [
        {
          "output_type": "display_data",
          "data": {
            "text/plain": [
              "Graph(nodes={'__start__': Node(id='__start__', name='__start__', data=<class 'langchain_core.utils.pydantic.LangGraphInput'>, metadata=None), 'chat_bot': Node(id='chat_bot', name='chat_bot', data=chat_bot(tags=None, recurse=True, func_accepts_config=False, func_accepts={'writer': False, 'store': False}), metadata=None), '__end__': Node(id='__end__', name='__end__', data=<class 'langchain_core.utils.pydantic.LangGraphOutput'>, metadata=None)}, edges=[Edge(source='__start__', target='chat_bot', data=None, conditional=False), Edge(source='chat_bot', target='__end__', data=None, conditional=False)])"
            ]
          },
          "metadata": {}
        }
      ]
    },
    {
      "cell_type": "code",
      "source": [
        "messages = [(\"user\",\"hi how are you roabot\")]"
      ],
      "metadata": {
        "id": "W3oYdVsdAYjR"
      },
      "execution_count": null,
      "outputs": []
    },
    {
      "cell_type": "code",
      "source": [
        "for event in app.stream({\"messages\":messages}):\n",
        "  print(list(event.values())[0][\"messages\"][-1].content)"
      ],
      "metadata": {
        "colab": {
          "base_uri": "https://localhost:8080/"
        },
        "id": "YGmSmrcyABAE",
        "outputId": "1c19e851-0685-4457-bb19-b8decefe73c5"
      },
      "execution_count": null,
      "outputs": [
        {
          "output_type": "stream",
          "name": "stdout",
          "text": [
            "As an AI, I don't have feelings or experiences like humans do, so I don't \"feel\" anything.  \n",
            "\n",
            "However, I'm here and ready to assist you with any questions or tasks you have! How can I help you today? 😊 \n",
            "\n"
          ]
        }
      ]
    }
  ]
}