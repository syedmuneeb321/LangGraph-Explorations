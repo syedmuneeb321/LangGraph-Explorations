{
  "nbformat": 4,
  "nbformat_minor": 0,
  "metadata": {
    "colab": {
      "provenance": [],
      "gpuType": "T4",
      "authorship_tag": "ABX9TyMR1svq3hVhixYDJBA57e+h",
      "include_colab_link": true
    },
    "kernelspec": {
      "name": "python3",
      "display_name": "Python 3"
    },
    "language_info": {
      "name": "python"
    },
    "accelerator": "GPU"
  },
  "cells": [
    {
      "cell_type": "markdown",
      "metadata": {
        "id": "view-in-github",
        "colab_type": "text"
      },
      "source": [
        "<a href=\"https://colab.research.google.com/github/syedmuneeb321/LangGraph-Explorations/blob/main/Getting_Started_With_LangGraph/agent_with_human_in_the_loop_part_2.ipynb\" target=\"_parent\"><img src=\"https://colab.research.google.com/assets/colab-badge.svg\" alt=\"Open In Colab\"/></a>"
      ]
    },
    {
      "cell_type": "code",
      "execution_count": null,
      "metadata": {
        "id": "E0-uw0YtUCmR"
      },
      "outputs": [],
      "source": [
        "%%capture --no-stderr\n",
        "%pip install -U langgraph langsmith langchain_google_genai tavily-python langchain_community"
      ]
    },
    {
      "cell_type": "code",
      "source": [
        "import os\n",
        "from google.colab import userdata\n",
        "\n",
        "os.environ[\"LANGCHAIN_API_KEY\"] = userdata.get('LANGCHAIN_API_KEY')\n",
        "os.environ[\"LANGCHAIN_TRACING_V2\"] = \"true\"\n",
        "os.environ[\"LANGCHAIN_PROJECT\"] = \"quickstart\"\n",
        "os.environ[\"TAVILY_API_KEY\"] = userdata.get(\"TAVILY_API_KEY\")\n",
        "\n",
        "gemini_api_key = userdata.get('GOOGLE_API_KEY')"
      ],
      "metadata": {
        "id": "VyIzIKG3USIY"
      },
      "execution_count": null,
      "outputs": []
    },
    {
      "cell_type": "code",
      "source": [
        "from langchain_google_genai import ChatGoogleGenerativeAI\n",
        "\n",
        "llm = ChatGoogleGenerativeAI(\n",
        "    model=\"gemini-1.5-flash\",\n",
        "    max_retries=2,\n",
        "    api_key=gemini_api_key\n",
        ")\n"
      ],
      "metadata": {
        "id": "9iJaPMnKUVQw"
      },
      "execution_count": null,
      "outputs": []
    },
    {
      "cell_type": "code",
      "source": [
        "from langchain_community.tools import TavilySearchResults\n",
        "tool = TavilySearchResults(max_results=2)\n",
        "llm_with_tool = llm.bind_tools([tool])"
      ],
      "metadata": {
        "id": "x5TgTLTyUaNS"
      },
      "execution_count": null,
      "outputs": []
    },
    {
      "cell_type": "code",
      "source": [
        "from typing import Annotated\n",
        "from typing_extensions import TypedDict\n",
        "from langgraph.graph.message import add_messages\n",
        "# make a state\n",
        "class State(TypedDict):\n",
        "  messages: Annotated[list,add_messages ]"
      ],
      "metadata": {
        "id": "x3qf8_5w3Gz3"
      },
      "execution_count": null,
      "outputs": []
    },
    {
      "cell_type": "code",
      "source": [
        "def chat_bot(state:State)->State:\n",
        "  response = llm_with_tool.invoke(state[\"messages\"])\n",
        "  return {\"messages\":[response]}"
      ],
      "metadata": {
        "id": "5PZH937u32ST"
      },
      "execution_count": null,
      "outputs": []
    },
    {
      "cell_type": "code",
      "source": [
        "from langgraph.graph import StateGraph,START\n",
        "from langgraph.prebuilt import ToolNode,tools_condition\n",
        "from langgraph.checkpoint.memory import MemorySaver\n",
        "\n",
        "graph_builder = StateGraph(State)\n",
        "\n",
        "graph_builder.add_node(\"chat_bot\",chat_bot)\n",
        "graph_builder.add_node(\"tools\",ToolNode(tools=[tool]))\n",
        "\n",
        "# logic\n",
        "\n",
        "graph_builder.add_edge(START,\"chat_bot\")\n",
        "graph_builder.add_conditional_edges(\"chat_bot\",tools_condition)\n",
        "graph_builder.add_edge(\"tools\",\"chat_bot\")\n",
        "\n",
        "\n",
        "memory = MemorySaver()\n",
        "\n",
        "app = graph_builder.compile(checkpointer=memory,interrupt_before=[\"tools\"])\n",
        "\n"
      ],
      "metadata": {
        "id": "JXJEjGY14FYq"
      },
      "execution_count": null,
      "outputs": []
    },
    {
      "cell_type": "code",
      "source": [
        "from IPython.display import Image, display\n",
        "\n",
        "try:\n",
        "    display(Image(app.get_graph().draw_mermaid_png()))\n",
        "except Exception:\n",
        "    # This requires some extra dependencies and is optional\n",
        "    pass"
      ],
      "metadata": {
        "id": "-6XetR3G5qRN",
        "colab": {
          "base_uri": "https://localhost:8080/",
          "height": 308
        },
        "outputId": "9634363f-3a69-4b63-9db3-24e0b44df29e"
      },
      "execution_count": null,
      "outputs": [
        {
          "output_type": "display_data",
          "data": {
            "image/jpeg": "[encoded data removed]",
            "text/plain": [
              "<IPython.core.display.Image object>"
            ]
          },
          "metadata": {}
        }
      ]
    },
    {
      "cell_type": "code",
      "source": [
        "# input = {\"messages\":[(\"user\",\"what is langgraph\")]}\n",
        "config = {\"configurable\":{\"thread_id\":\"1\"}}"
      ],
      "metadata": {
        "id": "pct98-l85rOv"
      },
      "execution_count": null,
      "outputs": []
    },
    {
      "cell_type": "code",
      "source": [
        "events = app.stream({\"messages\":[(\"user\",\"I'm learning LangGraph. Could you do some research on it for me?\")]},config,stream_mode=\"values\")\n",
        "# events = graph.stream({\"messages\": [(\"user\", user_input)]}, config)\n",
        "for event in events:\n",
        "    if \"messages\" in event:\n",
        "        event[\"messages\"][-1].pretty_print()"
      ],
      "metadata": {
        "id": "9JjZlfJ8ucI1",
        "colab": {
          "base_uri": "https://localhost:8080/"
        },
        "outputId": "be68a767-9117-48f8-ef7a-ea74036a49a7"
      },
      "execution_count": null,
      "outputs": [
        {
          "output_type": "stream",
          "name": "stdout",
          "text": [
            "================================\u001b[1m Human Message \u001b[0m=================================\n",
            "\n",
            "I'm learning LangGraph. Could you do some research on it for me?\n",
            "==================================\u001b[1m Ai Message \u001b[0m==================================\n",
            "Tool Calls:\n",
            "  tavily_search_results_json (53e9b316-05eb-4708-85db-f3100c362394)\n",
            " Call ID: 53e9b316-05eb-4708-85db-f3100c362394\n",
            "  Args:\n",
            "    query: LangGraph\n"
          ]
        }
      ]
    },
    {
      "cell_type": "code",
      "source": [
        "snapshot = app.get_state(config)\n",
        "existing_message = snapshot.values[\"messages\"][-1]\n",
        "existing_message.pretty_print()\n",
        "\n"
      ],
      "metadata": {
        "colab": {
          "base_uri": "https://localhost:8080/"
        },
        "id": "ON-78M0q5Frz",
        "outputId": "8f90ae9a-0b3c-4508-c26b-8a3200b7ae45"
      },
      "execution_count": null,
      "outputs": [
        {
          "output_type": "stream",
          "name": "stdout",
          "text": [
            "==================================\u001b[1m Ai Message \u001b[0m==================================\n",
            "Tool Calls:\n",
            "  tavily_search_results_json (53e9b316-05eb-4708-85db-f3100c362394)\n",
            " Call ID: 53e9b316-05eb-4708-85db-f3100c362394\n",
            "  Args:\n",
            "    query: LangGraph\n"
          ]
        }
      ]
    },
    {
      "cell_type": "code",
      "source": [
        "snapshot.next"
      ],
      "metadata": {
        "id": "2fDpCQCE9c04"
      },
      "execution_count": null,
      "outputs": []
    },
    {
      "cell_type": "code",
      "source": [
        "from langchain_core.messages import AIMessage, ToolMessage\n",
        "answer = \"LangGraph is a library for building stateful, multi-actor applications with LLMs.\"\n",
        "new_messages = [\n",
        "    ToolMessage(\n",
        "        content = answer,\n",
        "        tool_call_id = existing_message.tool_calls[0]['id'],\n",
        "\n",
        "    ),\n",
        "    AIMessage(\n",
        "        content = answer\n",
        "    ),\n",
        "]"
      ],
      "metadata": {
        "id": "KkXv0l_x7Xgd"
      },
      "execution_count": null,
      "outputs": []
    },
    {
      "cell_type": "code",
      "source": [
        "app.update_state(config,{\"messages\":new_messages})\n",
        "for messages in app.get_state(config).values[\"messages\"]:\n",
        "  messages.pretty_print()\n",
        "\n"
      ],
      "metadata": {
        "colab": {
          "base_uri": "https://localhost:8080/"
        },
        "id": "UBJHntqP8zqn",
        "outputId": "46ef4334-71d0-4a0f-cdcb-1fd02c3ea50b"
      },
      "execution_count": null,
      "outputs": [
        {
          "output_type": "stream",
          "name": "stdout",
          "text": [
            "================================\u001b[1m Human Message \u001b[0m=================================\n",
            "\n",
            "I'm learning LangGraph. Could you do some research on it for me?\n",
            "==================================\u001b[1m Ai Message \u001b[0m==================================\n",
            "Tool Calls:\n",
            "  tavily_search_results_json (53e9b316-05eb-4708-85db-f3100c362394)\n",
            " Call ID: 53e9b316-05eb-4708-85db-f3100c362394\n",
            "  Args:\n",
            "    query: LangGraph\n",
            "=================================\u001b[1m Tool Message \u001b[0m=================================\n",
            "\n",
            "LangGraph is a library for building stateful, multi-actor applications with LLMs.\n",
            "==================================\u001b[1m Ai Message \u001b[0m==================================\n",
            "\n",
            "LangGraph is a library for building stateful, multi-actor applications with LLMs.\n"
          ]
        }
      ]
    },
    {
      "cell_type": "code",
      "source": [
        "snapshot = app.get_state(config)\n",
        "snapshot.next"
      ],
      "metadata": {
        "colab": {
          "base_uri": "https://localhost:8080/"
        },
        "id": "kqg8yUXx9V7Z",
        "outputId": "2504dc79-c63e-422e-febb-b50fb4700d9f"
      },
      "execution_count": null,
      "outputs": [
        {
          "output_type": "execute_result",
          "data": {
            "text/plain": [
              "()"
            ]
          },
          "metadata": {},
          "execution_count": 36
        }
      ]
    },
    {
      "cell_type": "code",
      "source": [
        "user_input = \"I'm learning LangGraph. Could you do some research on it for me?\"\n",
        "config = {\"configurable\":{\"thread_id\":\"21\"}}\n",
        "events = app.stream({\"messages\":[(\"user\",user_input)]},config,stream_mode=\"values\")\n",
        "for event in events:\n",
        "  if \"messages\" in event:\n",
        "    event[\"messages\"][-1].pretty_print()"
      ],
      "metadata": {
        "colab": {
          "base_uri": "https://localhost:8080/"
        },
        "id": "fd0un7LiAA8M",
        "outputId": "f270bcaa-d3cf-41d5-836f-007d5e616731"
      },
      "execution_count": null,
      "outputs": [
        {
          "output_type": "stream",
          "name": "stdout",
          "text": [
            "================================\u001b[1m Human Message \u001b[0m=================================\n",
            "\n",
            "I'm learning LangGraph. Could you do some research on it for me?\n",
            "==================================\u001b[1m Ai Message \u001b[0m==================================\n",
            "Tool Calls:\n",
            "  tavily_search_results_json (a225a891-7997-43c7-ba88-f7bddc63da5d)\n",
            " Call ID: a225a891-7997-43c7-ba88-f7bddc63da5d\n",
            "  Args:\n",
            "    query: LangGraph\n"
          ]
        }
      ]
    },
    {
      "cell_type": "code",
      "source": [
        "from langchain_core.messages import AIMessage\n",
        "snapshot2 = app.get_state(config)\n",
        "existing_message2 = snapshot2.values['messages'][-1]\n",
        "existing_message2.pretty_print()"
      ],
      "metadata": {
        "colab": {
          "base_uri": "https://localhost:8080/"
        },
        "id": "O2hufgseAohQ",
        "outputId": "bda38b0b-e6a2-4c4e-ccdb-4728ff471ddb"
      },
      "execution_count": null,
      "outputs": [
        {
          "output_type": "stream",
          "name": "stdout",
          "text": [
            "==================================\u001b[1m Ai Message \u001b[0m==================================\n",
            "Tool Calls:\n",
            "  tavily_search_results_json (a225a891-7997-43c7-ba88-f7bddc63da5d)\n",
            " Call ID: a225a891-7997-43c7-ba88-f7bddc63da5d\n",
            "  Args:\n",
            "    query: LangGraph\n"
          ]
        }
      ]
    },
    {
      "cell_type": "code",
      "source": [
        "print(\"print original id\")\n",
        "print(existing_message2.id)"
      ],
      "metadata": {
        "colab": {
          "base_uri": "https://localhost:8080/"
        },
        "id": "oWr4MuVoBD3_",
        "outputId": "773d9076-8d48-4584-f828-6dd2df4a130b"
      },
      "execution_count": null,
      "outputs": [
        {
          "output_type": "stream",
          "name": "stdout",
          "text": [
            "print original id\n",
            "run-5c8b0c63-a99e-443c-a0ec-9fcec01223b0-0\n"
          ]
        }
      ]
    },
    {
      "cell_type": "code",
      "source": [
        "new_tool_call = existing_message2.tool_calls[0].copy()\n",
        "print(\"print new tool call\")\n",
        "print(new_tool_call)"
      ],
      "metadata": {
        "colab": {
          "base_uri": "https://localhost:8080/"
        },
        "id": "uWX3fk57BY3a",
        "outputId": "b0b2d506-851e-4aaa-c989-10fd60166498"
      },
      "execution_count": null,
      "outputs": [
        {
          "output_type": "stream",
          "name": "stdout",
          "text": [
            "print new tool call\n",
            "{'name': 'tavily_search_results_json', 'args': {'query': 'LangGraph'}, 'id': 'a225a891-7997-43c7-ba88-f7bddc63da5d', 'type': 'tool_call'}\n"
          ]
        }
      ]
    },
    {
      "cell_type": "code",
      "source": [
        "new_tool_call['args']['query'] = \"LangGraph human-in-the-loop workflow\"\n",
        "new_tool_call"
      ],
      "metadata": {
        "colab": {
          "base_uri": "https://localhost:8080/"
        },
        "id": "MbRWplInBpf4",
        "outputId": "66a49133-982e-4f4c-863b-1ec35acb0f81"
      },
      "execution_count": null,
      "outputs": [
        {
          "output_type": "execute_result",
          "data": {
            "text/plain": [
              "{'name': 'tavily_search_results_json',\n",
              " 'args': {'query': 'LangGraph human-in-the-loop workflow'},\n",
              " 'id': 'a225a891-7997-43c7-ba88-f7bddc63da5d',\n",
              " 'type': 'tool_call'}"
            ]
          },
          "metadata": {},
          "execution_count": 44
        }
      ]
    },
    {
      "cell_type": "code",
      "source": [
        "new_ai_message = AIMessage(\n",
        "    content = existing_message2.content,\n",
        "    tool_calls = [new_tool_call],\n",
        "    id=existing_message.id,\n",
        "\n",
        ")\n",
        "\n",
        "new_ai_message\n"
      ],
      "metadata": {
        "colab": {
          "base_uri": "https://localhost:8080/"
        },
        "id": "t6ejs_McB2MY",
        "outputId": "b0798b46-869d-42a0-e3bb-916e29bfcf96"
      },
      "execution_count": null,
      "outputs": [
        {
          "output_type": "execute_result",
          "data": {
            "text/plain": [
              "AIMessage(content='', additional_kwargs={}, response_metadata={}, id='run-b02c5014-ce49-40e5-a757-5d5b36d911a9-0', tool_calls=[{'name': 'tavily_search_results_json', 'args': {'query': 'LangGraph human-in-the-loop workflow'}, 'id': 'a225a891-7997-43c7-ba88-f7bddc63da5d', 'type': 'tool_call'}])"
            ]
          },
          "metadata": {},
          "execution_count": 46
        }
      ]
    },
    {
      "cell_type": "code",
      "source": [
        "app.update_state(config,{\"messages\":[new_ai_message]})\n",
        "app.get_state(config).values[\"messages\"][-1].pretty_print()"
      ],
      "metadata": {
        "colab": {
          "base_uri": "https://localhost:8080/"
        },
        "id": "ZyCXWBVNCSKy",
        "outputId": "fee8e20a-1bb4-453f-b4b9-9d72685f0bb6"
      },
      "execution_count": null,
      "outputs": [
        {
          "output_type": "stream",
          "name": "stdout",
          "text": [
            "==================================\u001b[1m Ai Message \u001b[0m==================================\n",
            "Tool Calls:\n",
            "  tavily_search_results_json (a225a891-7997-43c7-ba88-f7bddc63da5d)\n",
            " Call ID: a225a891-7997-43c7-ba88-f7bddc63da5d\n",
            "  Args:\n",
            "    query: LangGraph human-in-the-loop workflow\n"
          ]
        }
      ]
    },
    {
      "cell_type": "code",
      "source": [
        "events = app.stream(None,config,stream_mode=\"values\")\n",
        "for event in events:\n",
        "  if \"messages\" in event:\n",
        "    event[\"messages\"][-1].pretty_print()"
      ],
      "metadata": {
        "colab": {
          "base_uri": "https://localhost:8080/"
        },
        "id": "dB_3e7xCCpBA",
        "outputId": "d968136a-f4cc-4696-8b18-f21a717e09f1"
      },
      "execution_count": null,
      "outputs": [
        {
          "output_type": "stream",
          "name": "stdout",
          "text": [
            "==================================\u001b[1m Ai Message \u001b[0m==================================\n",
            "Tool Calls:\n",
            "  tavily_search_results_json (a225a891-7997-43c7-ba88-f7bddc63da5d)\n",
            " Call ID: a225a891-7997-43c7-ba88-f7bddc63da5d\n",
            "  Args:\n",
            "    query: LangGraph human-in-the-loop workflow\n",
            "=================================\u001b[1m Tool Message \u001b[0m=================================\n",
            "Name: tavily_search_results_json\n",
            "\n",
            "[{\"url\": \"https://www.youtube.com/watch?v=9BPCV5TYPmg\", \"content\": \"In this video, I'll show you how to handle persistence with LangGraph, enabling a unique Human-in-the-Loop workflow. This approach allows a human to grant an\"}, {\"url\": \"https://github.com/langchain-ai/langgraph\", \"content\": \"Additionally, LangGraph includes built-in persistence, enabling advanced human-in-the-loop and memory features. LangGraph is inspired by Pregel and Apache Beam. The public interface draws inspiration from NetworkX. LangGraph is built by LangChain Inc, the creators of LangChain, but can be used without LangChain. LangGraph Platform is\"}]\n",
            "==================================\u001b[1m Ai Message \u001b[0m==================================\n",
            "\n",
            "LangGraph is a graph-based framework for building and deploying large language models (LLMs). It is inspired by Pregel and Apache Beam, and its public interface draws inspiration from NetworkX. LangGraph is built by LangChain Inc, the creators of LangChain, but can be used without LangChain. LangGraph Platform is a cloud-based platform that provides a user-friendly interface for building and deploying LangGraph applications. It allows users to create and manage graphs, define nodes and edges, and run queries. LangGraph is a powerful tool for building complex LLM applications. It provides a flexible and scalable framework for managing and querying large datasets of text and code.\n"
          ]
        }
      ]
    },
    {
      "cell_type": "code",
      "source": [
        "app.get_state(config).values[\"messages\"][-1].pretty_print()"
      ],
      "metadata": {
        "colab": {
          "base_uri": "https://localhost:8080/"
        },
        "id": "-oZuxdYyCzn0",
        "outputId": "ff3d8279-e0d6-4c10-d253-f241646ab5da"
      },
      "execution_count": null,
      "outputs": [
        {
          "output_type": "stream",
          "name": "stdout",
          "text": [
            "==================================\u001b[1m Ai Message \u001b[0m==================================\n",
            "\n",
            "LangGraph is a graph-based framework for building and deploying large language models (LLMs). It is inspired by Pregel and Apache Beam, and its public interface draws inspiration from NetworkX. LangGraph is built by LangChain Inc, the creators of LangChain, but can be used without LangChain. LangGraph Platform is a cloud-based platform that provides a user-friendly interface for building and deploying LangGraph applications. It allows users to create and manage graphs, define nodes and edges, and run queries. LangGraph is a powerful tool for building complex LLM applications. It provides a flexible and scalable framework for managing and querying large datasets of text and code.\n"
          ]
        }
      ]
    },
    {
      "cell_type": "code",
      "source": [
        "for event in app.stream({\"messages\":[(\"user\",\"what is weather of lahore\")]},config,stream_mode=\"values\"):\n",
        "  for message in event[\"messages\"]:\n",
        "    message.pretty_print()"
      ],
      "metadata": {
        "id": "xG-nnZ8lBAL9",
        "colab": {
          "base_uri": "https://localhost:8080/"
        },
        "outputId": "5588b090-0e28-4ebb-8bb6-d756d99d93fc"
      },
      "execution_count": null,
      "outputs": [
        {
          "output_type": "stream",
          "name": "stdout",
          "text": [
            "================================\u001b[1m Human Message \u001b[0m=================================\n",
            "\n",
            "what is weather of lahore\n",
            "================================\u001b[1m Human Message \u001b[0m=================================\n",
            "\n",
            "what is weather of lahore\n",
            "==================================\u001b[1m Ai Message \u001b[0m==================================\n",
            "Tool Calls:\n",
            "  tavily_search_results_json (b548da94-9575-4dab-be4a-100e87caeea9)\n",
            " Call ID: b548da94-9575-4dab-be4a-100e87caeea9\n",
            "  Args:\n",
            "    query: weather of lahore\n"
          ]
        }
      ]
    },
    {
      "cell_type": "code",
      "source": [
        "snap_shot = app.get_state(config)\n",
        "print(snap_shot.values)\n",
        "for value in snap_shot.values[\"messages\"]:\n",
        "  value.pretty_print()"
      ],
      "metadata": {
        "colab": {
          "base_uri": "https://localhost:8080/"
        },
        "id": "yWrm-4b56lpx",
        "outputId": "dcdd50f5-5187-41a1-8258-b7a3edca5ded"
      },
      "execution_count": null,
      "outputs": [
        {
          "output_type": "stream",
          "name": "stdout",
          "text": [
            "{'messages': [HumanMessage(content='what is weather of lahore', additional_kwargs={}, response_metadata={}, id='d51f69e8-b305-4903-830e-7deda3ee8e61'), AIMessage(content='', additional_kwargs={'function_call': {'name': 'tavily_search_results_json', 'arguments': '{\"query\": \"weather of lahore\"}'}}, response_metadata={'prompt_feedback': {'block_reason': 0, 'safety_ratings': []}, 'finish_reason': 'STOP', 'safety_ratings': [{'category': 'HARM_CATEGORY_DANGEROUS_CONTENT', 'probability': 'NEGLIGIBLE', 'blocked': False}, {'category': 'HARM_CATEGORY_HARASSMENT', 'probability': 'NEGLIGIBLE', 'blocked': False}, {'category': 'HARM_CATEGORY_HATE_SPEECH', 'probability': 'NEGLIGIBLE', 'blocked': False}, {'category': 'HARM_CATEGORY_SEXUALLY_EXPLICIT', 'probability': 'NEGLIGIBLE', 'blocked': False}]}, id='run-a8d8ec07-7c27-4513-a0d9-f883142e5b25-0', tool_calls=[{'name': 'tavily_search_results_json', 'args': {'query': 'weather of lahore'}, 'id': 'b548da94-9575-4dab-be4a-100e87caeea9', 'type': 'tool_call'}], usage_metadata={'input_tokens': 80, 'output_tokens': 23, 'total_tokens': 103, 'input_token_details': {'cache_read': 0}})]}\n",
            "================================\u001b[1m Human Message \u001b[0m=================================\n",
            "\n",
            "what is weather of lahore\n",
            "==================================\u001b[1m Ai Message \u001b[0m==================================\n",
            "Tool Calls:\n",
            "  tavily_search_results_json (b548da94-9575-4dab-be4a-100e87caeea9)\n",
            " Call ID: b548da94-9575-4dab-be4a-100e87caeea9\n",
            "  Args:\n",
            "    query: weather of lahore\n"
          ]
        }
      ]
    },
    {
      "cell_type": "code",
      "source": [
        "snap_shot.next"
      ],
      "metadata": {
        "colab": {
          "base_uri": "https://localhost:8080/"
        },
        "id": "T_TSNUIs7o5j",
        "outputId": "cc454f46-799c-4001-e7ef-35109386ff11"
      },
      "execution_count": null,
      "outputs": [
        {
          "output_type": "execute_result",
          "data": {
            "text/plain": [
              "('tools',)"
            ]
          },
          "metadata": {},
          "execution_count": 46
        }
      ]
    },
    {
      "cell_type": "code",
      "source": [
        "snap_shot.values[\"messages\"][-1].tool_calls[0]['id']"
      ],
      "metadata": {
        "colab": {
          "base_uri": "https://localhost:8080/",
          "height": 55
        },
        "id": "xPq_Zn3cJUKy",
        "outputId": "4645c8e0-9381-444d-cb15-068bb5d56b0f"
      },
      "execution_count": null,
      "outputs": [
        {
          "output_type": "execute_result",
          "data": {
            "text/plain": [
              "'09cedf53-3f61-492b-acc9-3b9f14334149'"
            ],
            "application/vnd.google.colaboratory.intrinsic+json": {
              "type": "string"
            }
          },
          "metadata": {},
          "execution_count": 36
        }
      ]
    },
    {
      "cell_type": "code",
      "source": [
        "from langchain_core.messages import HumanMessage, ToolMessage\n",
        "\n",
        "tool_message = ToolMessage(\n",
        "    content=\"Lahore, Punjab. 85°F.\",\n",
        "    tool_call_id=snap_shot.values[\"messages\"][-1].tool_calls[0]['id'],\n",
        "    id = snap_shot.values[\"messages\"][-1].id\n",
        "\n",
        ")\n",
        "tool_message"
      ],
      "metadata": {
        "colab": {
          "base_uri": "https://localhost:8080/"
        },
        "id": "qEAxjh6UDICv",
        "outputId": "e8c18fdd-4e4b-4810-dfc9-c7a4900bad44"
      },
      "execution_count": null,
      "outputs": [
        {
          "output_type": "execute_result",
          "data": {
            "text/plain": [
              "ToolMessage(content='Lahore, Punjab. 85°F.', id='run-e6212594-828d-4ccc-b740-ae638dfedb3e-0', tool_call_id='09cedf53-3f61-492b-acc9-3b9f14334149')"
            ]
          },
          "metadata": {},
          "execution_count": 37
        }
      ]
    },
    {
      "cell_type": "code",
      "source": [
        "app.update_state(config,{\"messages\":[tool_message]})\n",
        "snap_shot = app.get_state(config)\n",
        "snap_shot.next\n",
        "\n",
        "for value in snap_shot.values[\"messages\"]:\n",
        "  value.pretty_print()"
      ],
      "metadata": {
        "colab": {
          "base_uri": "https://localhost:8080/"
        },
        "id": "DsEssNDFD1eC",
        "outputId": "425874e5-6c44-40a8-d5db-3661a7bcf1ed"
      },
      "execution_count": null,
      "outputs": [
        {
          "output_type": "stream",
          "name": "stdout",
          "text": [
            "================================\u001b[1m Human Message \u001b[0m=================================\n",
            "\n",
            "what is weather of lahore\n",
            "==================================\u001b[1m Ai Message \u001b[0m==================================\n",
            "Tool Calls:\n",
            "  tavily_search_results_json (b548da94-9575-4dab-be4a-100e87caeea9)\n",
            " Call ID: b548da94-9575-4dab-be4a-100e87caeea9\n",
            "  Args:\n",
            "    query: weather of lahore\n",
            "=================================\u001b[1m Tool Message \u001b[0m=================================\n",
            "Name: tavily_search_results_json\n",
            "\n",
            "[{\"url\": \"https://www.weatherapi.com/\", \"content\": \"{'location': {'name': 'Lahore', 'region': 'Punjab', 'country': 'Pakistan', 'lat': 31.5497, 'lon': 74.3436, 'tz_id': 'Asia/Karachi', 'localtime_epoch': 1730816622, 'localtime': '2024-11-05 19:23'}, 'current': {'last_updated_epoch': 1730816100, 'last_updated': '2024-11-05 19:15', 'temp_c': 26.2, 'temp_f': 79.2, 'is_day': 0, 'condition': {'text': 'Overcast', 'icon': '//cdn.weatherapi.com/weather/64x64/night/122.png', 'code': 1009}, 'wind_mph': 4.9, 'wind_kph': 7.9, 'wind_degree': 52, 'wind_dir': 'NE', 'pressure_mb': 1015.0, 'pressure_in': 29.97, 'precip_mm': 0.0, 'precip_in': 0.0, 'humidity': 54, 'cloud': 0, 'feelslike_c': 24.8, 'feelslike_f': 76.6, 'windchill_c': 26.9, 'windchill_f': 80.4, 'heatindex_c': 25.3, 'heatindex_f': 77.6, 'dewpoint_c': 3.3, 'dewpoint_f': 38.0, 'vis_km': 2.5, 'vis_miles': 1.0, 'uv': 0.0, 'gust_mph': 10.3, 'gust_kph': 16.6}}\"}, {\"url\": \"https://www.easeweather.com/asia/pakistan/punjab/lahore-district/lahore/november\", \"content\": \"The forecast for the first days of November 2024 in Lahore predicts temperatures to be around 35 ° C, close to the historical average.. In general, the average temperature in Lahore at the beginning of November is 34.7 ° C.As the month progressed, temperatures tended to significantly cool down, reaching an average of 25 ° C by the end of November.. With an average of 2 rainy days, Lahore\"}]\n",
            "==================================\u001b[1m Ai Message \u001b[0m==================================\n",
            "\n",
            "The weather in Lahore is currently overcast with a temperature of 26.2 degrees Celsius. The wind is blowing from the northeast at 7.9 kilometers per hour. The humidity is 54%.\n",
            "=================================\u001b[1m Tool Message \u001b[0m=================================\n",
            "\n",
            "Lahore, Punjab. 85°F.\n"
          ]
        }
      ]
    },
    {
      "cell_type": "code",
      "source": [
        "for event in app.stream(None,config,stream_mode=\"values\"):\n",
        "  print(event)"
      ],
      "metadata": {
        "colab": {
          "base_uri": "https://localhost:8080/"
        },
        "id": "Hhj7Fc2IsNi0",
        "outputId": "f3ca4797-d542-47ae-d7e6-4104c5f1b19d"
      },
      "execution_count": null,
      "outputs": [
        {
          "output_type": "stream",
          "name": "stdout",
          "text": [
            "{'messages': [HumanMessage(content='what is weather of lahore', additional_kwargs={}, response_metadata={}, id='d51f69e8-b305-4903-830e-7deda3ee8e61'), AIMessage(content='', additional_kwargs={'function_call': {'name': 'tavily_search_results_json', 'arguments': '{\"query\": \"weather of lahore\"}'}}, response_metadata={'prompt_feedback': {'block_reason': 0, 'safety_ratings': []}, 'finish_reason': 'STOP', 'safety_ratings': [{'category': 'HARM_CATEGORY_DANGEROUS_CONTENT', 'probability': 'NEGLIGIBLE', 'blocked': False}, {'category': 'HARM_CATEGORY_HARASSMENT', 'probability': 'NEGLIGIBLE', 'blocked': False}, {'category': 'HARM_CATEGORY_HATE_SPEECH', 'probability': 'NEGLIGIBLE', 'blocked': False}, {'category': 'HARM_CATEGORY_SEXUALLY_EXPLICIT', 'probability': 'NEGLIGIBLE', 'blocked': False}]}, id='run-a8d8ec07-7c27-4513-a0d9-f883142e5b25-0', tool_calls=[{'name': 'tavily_search_results_json', 'args': {'query': 'weather of lahore'}, 'id': 'b548da94-9575-4dab-be4a-100e87caeea9', 'type': 'tool_call'}], usage_metadata={'input_tokens': 80, 'output_tokens': 23, 'total_tokens': 103, 'input_token_details': {'cache_read': 0}})]}\n",
            "{'messages': [HumanMessage(content='what is weather of lahore', additional_kwargs={}, response_metadata={}, id='d51f69e8-b305-4903-830e-7deda3ee8e61'), AIMessage(content='', additional_kwargs={'function_call': {'name': 'tavily_search_results_json', 'arguments': '{\"query\": \"weather of lahore\"}'}}, response_metadata={'prompt_feedback': {'block_reason': 0, 'safety_ratings': []}, 'finish_reason': 'STOP', 'safety_ratings': [{'category': 'HARM_CATEGORY_DANGEROUS_CONTENT', 'probability': 'NEGLIGIBLE', 'blocked': False}, {'category': 'HARM_CATEGORY_HARASSMENT', 'probability': 'NEGLIGIBLE', 'blocked': False}, {'category': 'HARM_CATEGORY_HATE_SPEECH', 'probability': 'NEGLIGIBLE', 'blocked': False}, {'category': 'HARM_CATEGORY_SEXUALLY_EXPLICIT', 'probability': 'NEGLIGIBLE', 'blocked': False}]}, id='run-a8d8ec07-7c27-4513-a0d9-f883142e5b25-0', tool_calls=[{'name': 'tavily_search_results_json', 'args': {'query': 'weather of lahore'}, 'id': 'b548da94-9575-4dab-be4a-100e87caeea9', 'type': 'tool_call'}], usage_metadata={'input_tokens': 80, 'output_tokens': 23, 'total_tokens': 103, 'input_token_details': {'cache_read': 0}}), ToolMessage(content='[{\"url\": \"https://www.weatherapi.com/\", \"content\": \"{\\'location\\': {\\'name\\': \\'Lahore\\', \\'region\\': \\'Punjab\\', \\'country\\': \\'Pakistan\\', \\'lat\\': 31.5497, \\'lon\\': 74.3436, \\'tz_id\\': \\'Asia/Karachi\\', \\'localtime_epoch\\': 1730816622, \\'localtime\\': \\'2024-11-05 19:23\\'}, \\'current\\': {\\'last_updated_epoch\\': 1730816100, \\'last_updated\\': \\'2024-11-05 19:15\\', \\'temp_c\\': 26.2, \\'temp_f\\': 79.2, \\'is_day\\': 0, \\'condition\\': {\\'text\\': \\'Overcast\\', \\'icon\\': \\'//cdn.weatherapi.com/weather/64x64/night/122.png\\', \\'code\\': 1009}, \\'wind_mph\\': 4.9, \\'wind_kph\\': 7.9, \\'wind_degree\\': 52, \\'wind_dir\\': \\'NE\\', \\'pressure_mb\\': 1015.0, \\'pressure_in\\': 29.97, \\'precip_mm\\': 0.0, \\'precip_in\\': 0.0, \\'humidity\\': 54, \\'cloud\\': 0, \\'feelslike_c\\': 24.8, \\'feelslike_f\\': 76.6, \\'windchill_c\\': 26.9, \\'windchill_f\\': 80.4, \\'heatindex_c\\': 25.3, \\'heatindex_f\\': 77.6, \\'dewpoint_c\\': 3.3, \\'dewpoint_f\\': 38.0, \\'vis_km\\': 2.5, \\'vis_miles\\': 1.0, \\'uv\\': 0.0, \\'gust_mph\\': 10.3, \\'gust_kph\\': 16.6}}\"}, {\"url\": \"https://www.easeweather.com/asia/pakistan/punjab/lahore-district/lahore/november\", \"content\": \"The forecast for the first days of November 2024 in Lahore predicts temperatures to be around 35 ° C, close to the historical average.. In general, the average temperature in Lahore at the beginning of November is 34.7 ° C.As the month progressed, temperatures tended to significantly cool down, reaching an average of 25 ° C by the end of November.. With an average of 2 rainy days, Lahore\"}]', name='tavily_search_results_json', id='b1d71635-b7c7-45ae-a120-7ca5c6a19091', tool_call_id='b548da94-9575-4dab-be4a-100e87caeea9', artifact={'query': 'weather of lahore', 'follow_up_questions': None, 'answer': None, 'images': [], 'results': [{'title': 'Weather in Lahore', 'url': 'https://www.weatherapi.com/', 'content': \"{'location': {'name': 'Lahore', 'region': 'Punjab', 'country': 'Pakistan', 'lat': 31.5497, 'lon': 74.3436, 'tz_id': 'Asia/Karachi', 'localtime_epoch': 1730816622, 'localtime': '2024-11-05 19:23'}, 'current': {'last_updated_epoch': 1730816100, 'last_updated': '2024-11-05 19:15', 'temp_c': 26.2, 'temp_f': 79.2, 'is_day': 0, 'condition': {'text': 'Overcast', 'icon': '//cdn.weatherapi.com/weather/64x64/night/122.png', 'code': 1009}, 'wind_mph': 4.9, 'wind_kph': 7.9, 'wind_degree': 52, 'wind_dir': 'NE', 'pressure_mb': 1015.0, 'pressure_in': 29.97, 'precip_mm': 0.0, 'precip_in': 0.0, 'humidity': 54, 'cloud': 0, 'feelslike_c': 24.8, 'feelslike_f': 76.6, 'windchill_c': 26.9, 'windchill_f': 80.4, 'heatindex_c': 25.3, 'heatindex_f': 77.6, 'dewpoint_c': 3.3, 'dewpoint_f': 38.0, 'vis_km': 2.5, 'vis_miles': 1.0, 'uv': 0.0, 'gust_mph': 10.3, 'gust_kph': 16.6}}\", 'score': 0.9997674, 'raw_content': None}, {'title': 'Weather in Lahore in November 2024 - Detailed Forecast', 'url': 'https://www.easeweather.com/asia/pakistan/punjab/lahore-district/lahore/november', 'content': 'The forecast for the first days of November 2024 in Lahore predicts temperatures to be around 35 ° C, close to the historical average.. In general, the average temperature in Lahore at the beginning of November is 34.7 ° C.As the month progressed, temperatures tended to significantly cool down, reaching an average of 25 ° C by the end of November.. With an average of 2 rainy days, Lahore', 'score': 0.998487, 'raw_content': None}], 'response_time': 3.32})]}\n",
            "{'messages': [HumanMessage(content='what is weather of lahore', additional_kwargs={}, response_metadata={}, id='d51f69e8-b305-4903-830e-7deda3ee8e61'), AIMessage(content='', additional_kwargs={'function_call': {'name': 'tavily_search_results_json', 'arguments': '{\"query\": \"weather of lahore\"}'}}, response_metadata={'prompt_feedback': {'block_reason': 0, 'safety_ratings': []}, 'finish_reason': 'STOP', 'safety_ratings': [{'category': 'HARM_CATEGORY_DANGEROUS_CONTENT', 'probability': 'NEGLIGIBLE', 'blocked': False}, {'category': 'HARM_CATEGORY_HARASSMENT', 'probability': 'NEGLIGIBLE', 'blocked': False}, {'category': 'HARM_CATEGORY_HATE_SPEECH', 'probability': 'NEGLIGIBLE', 'blocked': False}, {'category': 'HARM_CATEGORY_SEXUALLY_EXPLICIT', 'probability': 'NEGLIGIBLE', 'blocked': False}]}, id='run-a8d8ec07-7c27-4513-a0d9-f883142e5b25-0', tool_calls=[{'name': 'tavily_search_results_json', 'args': {'query': 'weather of lahore'}, 'id': 'b548da94-9575-4dab-be4a-100e87caeea9', 'type': 'tool_call'}], usage_metadata={'input_tokens': 80, 'output_tokens': 23, 'total_tokens': 103, 'input_token_details': {'cache_read': 0}}), ToolMessage(content='[{\"url\": \"https://www.weatherapi.com/\", \"content\": \"{\\'location\\': {\\'name\\': \\'Lahore\\', \\'region\\': \\'Punjab\\', \\'country\\': \\'Pakistan\\', \\'lat\\': 31.5497, \\'lon\\': 74.3436, \\'tz_id\\': \\'Asia/Karachi\\', \\'localtime_epoch\\': 1730816622, \\'localtime\\': \\'2024-11-05 19:23\\'}, \\'current\\': {\\'last_updated_epoch\\': 1730816100, \\'last_updated\\': \\'2024-11-05 19:15\\', \\'temp_c\\': 26.2, \\'temp_f\\': 79.2, \\'is_day\\': 0, \\'condition\\': {\\'text\\': \\'Overcast\\', \\'icon\\': \\'//cdn.weatherapi.com/weather/64x64/night/122.png\\', \\'code\\': 1009}, \\'wind_mph\\': 4.9, \\'wind_kph\\': 7.9, \\'wind_degree\\': 52, \\'wind_dir\\': \\'NE\\', \\'pressure_mb\\': 1015.0, \\'pressure_in\\': 29.97, \\'precip_mm\\': 0.0, \\'precip_in\\': 0.0, \\'humidity\\': 54, \\'cloud\\': 0, \\'feelslike_c\\': 24.8, \\'feelslike_f\\': 76.6, \\'windchill_c\\': 26.9, \\'windchill_f\\': 80.4, \\'heatindex_c\\': 25.3, \\'heatindex_f\\': 77.6, \\'dewpoint_c\\': 3.3, \\'dewpoint_f\\': 38.0, \\'vis_km\\': 2.5, \\'vis_miles\\': 1.0, \\'uv\\': 0.0, \\'gust_mph\\': 10.3, \\'gust_kph\\': 16.6}}\"}, {\"url\": \"https://www.easeweather.com/asia/pakistan/punjab/lahore-district/lahore/november\", \"content\": \"The forecast for the first days of November 2024 in Lahore predicts temperatures to be around 35 ° C, close to the historical average.. In general, the average temperature in Lahore at the beginning of November is 34.7 ° C.As the month progressed, temperatures tended to significantly cool down, reaching an average of 25 ° C by the end of November.. With an average of 2 rainy days, Lahore\"}]', name='tavily_search_results_json', id='b1d71635-b7c7-45ae-a120-7ca5c6a19091', tool_call_id='b548da94-9575-4dab-be4a-100e87caeea9', artifact={'query': 'weather of lahore', 'follow_up_questions': None, 'answer': None, 'images': [], 'results': [{'title': 'Weather in Lahore', 'url': 'https://www.weatherapi.com/', 'content': \"{'location': {'name': 'Lahore', 'region': 'Punjab', 'country': 'Pakistan', 'lat': 31.5497, 'lon': 74.3436, 'tz_id': 'Asia/Karachi', 'localtime_epoch': 1730816622, 'localtime': '2024-11-05 19:23'}, 'current': {'last_updated_epoch': 1730816100, 'last_updated': '2024-11-05 19:15', 'temp_c': 26.2, 'temp_f': 79.2, 'is_day': 0, 'condition': {'text': 'Overcast', 'icon': '//cdn.weatherapi.com/weather/64x64/night/122.png', 'code': 1009}, 'wind_mph': 4.9, 'wind_kph': 7.9, 'wind_degree': 52, 'wind_dir': 'NE', 'pressure_mb': 1015.0, 'pressure_in': 29.97, 'precip_mm': 0.0, 'precip_in': 0.0, 'humidity': 54, 'cloud': 0, 'feelslike_c': 24.8, 'feelslike_f': 76.6, 'windchill_c': 26.9, 'windchill_f': 80.4, 'heatindex_c': 25.3, 'heatindex_f': 77.6, 'dewpoint_c': 3.3, 'dewpoint_f': 38.0, 'vis_km': 2.5, 'vis_miles': 1.0, 'uv': 0.0, 'gust_mph': 10.3, 'gust_kph': 16.6}}\", 'score': 0.9997674, 'raw_content': None}, {'title': 'Weather in Lahore in November 2024 - Detailed Forecast', 'url': 'https://www.easeweather.com/asia/pakistan/punjab/lahore-district/lahore/november', 'content': 'The forecast for the first days of November 2024 in Lahore predicts temperatures to be around 35 ° C, close to the historical average.. In general, the average temperature in Lahore at the beginning of November is 34.7 ° C.As the month progressed, temperatures tended to significantly cool down, reaching an average of 25 ° C by the end of November.. With an average of 2 rainy days, Lahore', 'score': 0.998487, 'raw_content': None}], 'response_time': 3.32}), AIMessage(content='The weather in Lahore is currently overcast with a temperature of 26.2 degrees Celsius. The wind is blowing from the northeast at 7.9 kilometers per hour. The humidity is 54%. \\n', additional_kwargs={}, response_metadata={'prompt_feedback': {'block_reason': 0, 'safety_ratings': []}, 'finish_reason': 'STOP', 'safety_ratings': [{'category': 'HARM_CATEGORY_SEXUALLY_EXPLICIT', 'probability': 'NEGLIGIBLE', 'blocked': False}, {'category': 'HARM_CATEGORY_HATE_SPEECH', 'probability': 'NEGLIGIBLE', 'blocked': False}, {'category': 'HARM_CATEGORY_HARASSMENT', 'probability': 'NEGLIGIBLE', 'blocked': False}, {'category': 'HARM_CATEGORY_DANGEROUS_CONTENT', 'probability': 'NEGLIGIBLE', 'blocked': False}]}, id='run-cb93c437-542f-4b85-b9bc-9ea590af88ee-0', usage_metadata={'input_tokens': 785, 'output_tokens': 42, 'total_tokens': 827, 'input_token_details': {'cache_read': 0}})]}\n"
          ]
        }
      ]
    },
    {
      "cell_type": "code",
      "source": [
        "snap_shot = app.get_state(config)\n",
        "for value in snap_shot.values[\"messages\"]:\n",
        "  value.pretty_print()\n",
        "snap_shot.next"
      ],
      "metadata": {
        "id": "wEVRcrTBscKu"
      },
      "execution_count": null,
      "outputs": []
    }
  ]
}