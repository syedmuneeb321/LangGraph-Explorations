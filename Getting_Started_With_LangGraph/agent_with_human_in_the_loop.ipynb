{
  "nbformat": 4,
  "nbformat_minor": 0,
  "metadata": {
    "colab": {
      "provenance": [],
      "authorship_tag": "ABX9TyPbzFoqEWhQYTj7R54EhkEk",
      "include_colab_link": true
    },
    "kernelspec": {
      "name": "python3",
      "display_name": "Python 3"
    },
    "language_info": {
      "name": "python"
    }
  },
  "cells": [
    {
      "cell_type": "markdown",
      "metadata": {
        "id": "view-in-github",
        "colab_type": "text"
      },
      "source": [
        "<a href=\"https://colab.research.google.com/github/syedmuneeb321/LangGraph-Explorations/blob/main/Getting_Started_With_LangGraph/agent_with_human_in_the_loop.ipynb\" target=\"_parent\"><img src=\"https://colab.research.google.com/assets/colab-badge.svg\" alt=\"Open In Colab\"/></a>"
      ]
    },
    {
      "cell_type": "code",
      "execution_count": null,
      "metadata": {
        "id": "Ho_L2d137rpT"
      },
      "outputs": [],
      "source": [
        "%%capture --no-stderr\n",
        "%pip install -U langgraph langsmith langchain_google_genai tavily-python langchain_community"
      ]
    },
    {
      "cell_type": "code",
      "source": [
        "import os\n",
        "from google.colab import userdata\n",
        "\n",
        "os.environ[\"LANGCHAIN_API_KEY\"] = userdata.get('LANGCHAIN_API_KEY')\n",
        "os.environ[\"LANGCHAIN_TRACING_V2\"] = \"true\"\n",
        "os.environ[\"LANGCHAIN_PROJECT\"] = \"quickstart\"\n",
        "os.environ[\"TAVILY_API_KEY\"] = userdata.get(\"TAVILY_API_KEY\")\n",
        "\n",
        "gemini_api_key = userdata.get('GOOGLE_API_KEY')"
      ],
      "metadata": {
        "id": "S92U4aaA70Rs"
      },
      "execution_count": null,
      "outputs": []
    },
    {
      "cell_type": "code",
      "source": [
        "from langchain_google_genai import ChatGoogleGenerativeAI\n",
        "\n",
        "llm = ChatGoogleGenerativeAI(\n",
        "    model=\"gemini-1.5-flash\",\n",
        "    max_retries=2,\n",
        "    api_key=gemini_api_key\n",
        ")\n"
      ],
      "metadata": {
        "id": "_VtJSnZN796O"
      },
      "execution_count": null,
      "outputs": []
    },
    {
      "cell_type": "code",
      "source": [
        "from langchain_community.tools import TavilySearchResults\n",
        "tool = TavilySearchResults(max_results=2)\n",
        "llm_with_tool = llm.bind_tools([tool])"
      ],
      "metadata": {
        "id": "vYMNbV368u4H"
      },
      "execution_count": null,
      "outputs": []
    },
    {
      "cell_type": "code",
      "source": [
        "from typing import Annotated\n",
        "from typing_extensions import TypedDict\n",
        "from langgraph.graph.message import add_messages\n",
        "# make a state\n",
        "class State(TypedDict):\n",
        "  messages: Annotated[list,add_messages ]"
      ],
      "metadata": {
        "id": "r064tgqs8LUB"
      },
      "execution_count": null,
      "outputs": []
    },
    {
      "cell_type": "code",
      "source": [
        "def chat_bot(state:State)->State:\n",
        "  response = llm_with_tool.invoke(state[\"messages\"])\n",
        "\n",
        "  return {\"messages\":[response]}"
      ],
      "metadata": {
        "id": "5_264MrO8irp"
      },
      "execution_count": null,
      "outputs": []
    },
    {
      "cell_type": "code",
      "source": [
        "# tool call node\n",
        "# make a tool call node\n",
        "from langgraph.prebuilt import ToolNode,tools_condition\n",
        "\n",
        "tool_call_node = ToolNode([tool])"
      ],
      "metadata": {
        "id": "r7bCxOM49IuO"
      },
      "execution_count": null,
      "outputs": []
    },
    {
      "cell_type": "code",
      "source": [
        "from langgraph.graph import StateGraph,START\n",
        "from langgraph.checkpoint.memory import MemorySaver\n",
        "\n",
        "graph_builder = StateGraph(State)\n",
        "graph_builder.add_node(\"chat_bot\",chat_bot)\n",
        "graph_builder.add_node(\"tools\",tool_call_node)\n",
        "\n",
        "graph_builder.add_edge(START,\"chat_bot\")\n",
        "graph_builder.add_edge(\"tools\",\"chat_bot\")\n",
        "graph_builder.add_conditional_edges(\"chat_bot\",tools_condition)\n",
        "\n",
        "# memeroy instance\n",
        "memory = MemorySaver()\n",
        "app = graph_builder.compile(checkpointer=memory,interrupt_before=[\"tools\"])\n"
      ],
      "metadata": {
        "id": "DXcVGnlS9cGS"
      },
      "execution_count": null,
      "outputs": []
    },
    {
      "cell_type": "code",
      "source": [
        "from IPython.display import Image, display\n",
        "\n",
        "try:\n",
        "    display(Image(app.get_graph().draw_mermaid_png()))\n",
        "except Exception:\n",
        "    # This requires some extra dependencies and is optional\n",
        "    pass"
      ],
      "metadata": {
        "colab": {
          "base_uri": "https://localhost:8080/",
          "height": 328
        },
        "id": "0llE9_Ov9kT5",
        "outputId": "cd98a9ed-6e10-4fd2-8c98-e4ee3b2de78e"
      },
      "execution_count": null,
      "outputs": [
        {
          "output_type": "display_data",
          "data": {
            "image/jpeg": "[encoded data removed]",
            "text/plain": [
              "<IPython.core.display.Image object>"
            ]
          },
          "metadata": {}
        }
      ]
    },
    {
      "cell_type": "code",
      "source": [
        "input = {\"messages\":[{\"role\":\"user\",\"content\":\"what is Langgraph\"}]}\n",
        "\n",
        "thread_config = {\"configurable\":{\"thread_id\":\"1\"}}\n",
        "\n",
        "for event in app.stream(input=input,config=thread_config,stream_mode=\"values\"):\n",
        "  # print(event)\n",
        "  event['messages'][-1].pretty_print()"
      ],
      "metadata": {
        "id": "9zrcWfVV_JFx",
        "colab": {
          "base_uri": "https://localhost:8080/"
        },
        "outputId": "1dff0bb4-c228-4b86-840d-6ccf9d137d74"
      },
      "execution_count": null,
      "outputs": [
        {
          "output_type": "stream",
          "name": "stdout",
          "text": [
            "================================\u001b[1m Human Message \u001b[0m=================================\n",
            "\n",
            "what is Langgraph\n",
            "==================================\u001b[1m Ai Message \u001b[0m==================================\n",
            "Tool Calls:\n",
            "  tavily_search_results_json (f6833e1f-72ee-497e-ad74-89c2c11dfc0f)\n",
            " Call ID: f6833e1f-72ee-497e-ad74-89c2c11dfc0f\n",
            "  Args:\n",
            "    query: what is Langgraph\n"
          ]
        }
      ]
    },
    {
      "cell_type": "code",
      "source": [
        "snap_shot = app.get_state(thread_config)\n",
        "for m in snap_shot.values[\"messages\"]:\n",
        "  m.pretty_print()"
      ],
      "metadata": {
        "colab": {
          "base_uri": "https://localhost:8080/"
        },
        "id": "dKoxdwdUSgwD",
        "outputId": "281b946c-fa64-4fbd-f96f-c3e2fe2abef0"
      },
      "execution_count": null,
      "outputs": [
        {
          "output_type": "stream",
          "name": "stdout",
          "text": [
            "================================\u001b[1m Human Message \u001b[0m=================================\n",
            "\n",
            "what is Langgraph\n",
            "==================================\u001b[1m Ai Message \u001b[0m==================================\n",
            "Tool Calls:\n",
            "  tavily_search_results_json (f6833e1f-72ee-497e-ad74-89c2c11dfc0f)\n",
            " Call ID: f6833e1f-72ee-497e-ad74-89c2c11dfc0f\n",
            "  Args:\n",
            "    query: what is Langgraph\n"
          ]
        }
      ]
    },
    {
      "cell_type": "code",
      "source": [
        "snap_shot.next"
      ],
      "metadata": {
        "colab": {
          "base_uri": "https://localhost:8080/"
        },
        "id": "7bPRbjtCSjD4",
        "outputId": "51d4788f-5cd3-483e-c847-f0f222605f91"
      },
      "execution_count": null,
      "outputs": [
        {
          "output_type": "execute_result",
          "data": {
            "text/plain": [
              "('tools',)"
            ]
          },
          "metadata": {},
          "execution_count": 13
        }
      ]
    },
    {
      "cell_type": "code",
      "source": [
        "for event in app.stream(input=None,config=thread_config,stream_mode=\"values\"):\n",
        "  # print(event)\n",
        "  event['messages'][-1].pretty_print()"
      ],
      "metadata": {
        "colab": {
          "base_uri": "https://localhost:8080/"
        },
        "id": "bxKduSdk_a3s",
        "outputId": "52892869-ca2c-4852-c4ba-397453ea7932"
      },
      "execution_count": null,
      "outputs": [
        {
          "output_type": "stream",
          "name": "stdout",
          "text": [
            "==================================\u001b[1m Ai Message \u001b[0m==================================\n",
            "Tool Calls:\n",
            "  tavily_search_results_json (f6833e1f-72ee-497e-ad74-89c2c11dfc0f)\n",
            " Call ID: f6833e1f-72ee-497e-ad74-89c2c11dfc0f\n",
            "  Args:\n",
            "    query: what is Langgraph\n",
            "=================================\u001b[1m Tool Message \u001b[0m=================================\n",
            "Name: tavily_search_results_json\n",
            "\n",
            "[{\"url\": \"https://langchain-ai.github.io/langgraph/\", \"content\": \"LangGraph is a framework for creating stateful, multi-actor applications with LLMs, using cycles, controllability, and persistence. Learn how to use LangGraph with examples, integration with LangChain, and streaming support.\"}, {\"url\": \"https://towardsdatascience.com/from-basics-to-advanced-exploring-langgraph-e8c1cf4db787\", \"content\": \"LangGraph is a low-level framework that offers extensive customisation options, allowing you to build precisely what you need. Since LangGraph is built on top of LangChain, it's seamlessly integrated into its ecosystem, making it easy to leverage existing tools and components. However, there are areas where LangGrpah could be improved:\"}]\n",
            "==================================\u001b[1m Ai Message \u001b[0m==================================\n",
            "\n",
            "LangGraph is a framework for creating stateful, multi-actor applications with LLMs, using cycles, controllability, and persistence. It's built on top of LangChain and offers extensive customization options, allowing you to build precisely what you need. You can learn more about LangGraph and its features on the LangChain website and in articles on Towards Data Science.\n"
          ]
        }
      ]
    },
    {
      "cell_type": "code",
      "source": [
        "snap_shot = app.get_state(thread_config)\n",
        "for m in snap_shot.values[\"messages\"]:\n",
        "  m.pretty_print()"
      ],
      "metadata": {
        "colab": {
          "base_uri": "https://localhost:8080/"
        },
        "id": "Ublh12mc_s3V",
        "outputId": "bf63bbf3-47bc-4dd6-abe8-098b392c22ab"
      },
      "execution_count": null,
      "outputs": [
        {
          "output_type": "stream",
          "name": "stdout",
          "text": [
            "================================\u001b[1m Human Message \u001b[0m=================================\n",
            "\n",
            "what is Langgraph\n",
            "==================================\u001b[1m Ai Message \u001b[0m==================================\n",
            "Tool Calls:\n",
            "  tavily_search_results_json (f6833e1f-72ee-497e-ad74-89c2c11dfc0f)\n",
            " Call ID: f6833e1f-72ee-497e-ad74-89c2c11dfc0f\n",
            "  Args:\n",
            "    query: what is Langgraph\n",
            "=================================\u001b[1m Tool Message \u001b[0m=================================\n",
            "Name: tavily_search_results_json\n",
            "\n",
            "[{\"url\": \"https://langchain-ai.github.io/langgraph/\", \"content\": \"LangGraph is a framework for creating stateful, multi-actor applications with LLMs, using cycles, controllability, and persistence. Learn how to use LangGraph with examples, integration with LangChain, and streaming support.\"}, {\"url\": \"https://towardsdatascience.com/from-basics-to-advanced-exploring-langgraph-e8c1cf4db787\", \"content\": \"LangGraph is a low-level framework that offers extensive customisation options, allowing you to build precisely what you need. Since LangGraph is built on top of LangChain, it's seamlessly integrated into its ecosystem, making it easy to leverage existing tools and components. However, there are areas where LangGrpah could be improved:\"}]\n",
            "==================================\u001b[1m Ai Message \u001b[0m==================================\n",
            "\n",
            "LangGraph is a framework for creating stateful, multi-actor applications with LLMs, using cycles, controllability, and persistence. It's built on top of LangChain and offers extensive customization options, allowing you to build precisely what you need. You can learn more about LangGraph and its features on the LangChain website and in articles on Towards Data Science.\n"
          ]
        }
      ]
    },
    {
      "cell_type": "code",
      "source": [
        "snap_shot.next"
      ],
      "metadata": {
        "id": "hNC5v0lb_73P",
        "colab": {
          "base_uri": "https://localhost:8080/"
        },
        "outputId": "dab069d7-062f-4f39-ec47-061eacf67133"
      },
      "execution_count": null,
      "outputs": [
        {
          "output_type": "execute_result",
          "data": {
            "text/plain": [
              "()"
            ]
          },
          "metadata": {},
          "execution_count": 16
        }
      ]
    },
    {
      "cell_type": "markdown",
      "source": [
        "# Mannually Update state"
      ],
      "metadata": {
        "id": "Pgl7uGGBTEtr"
      }
    }
  ]
}