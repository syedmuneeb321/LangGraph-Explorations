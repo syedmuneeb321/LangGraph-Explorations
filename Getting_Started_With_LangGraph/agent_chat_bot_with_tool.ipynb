{
  "nbformat": 4,
  "nbformat_minor": 0,
  "metadata": {
    "colab": {
      "provenance": [],
      "authorship_tag": "ABX9TyOcz4tP0LbGEFCvcfawkZv4",
      "include_colab_link": true
    },
    "kernelspec": {
      "name": "python3",
      "display_name": "Python 3"
    },
    "language_info": {
      "name": "python"
    }
  },
  "cells": [
    {
      "cell_type": "markdown",
      "metadata": {
        "id": "view-in-github",
        "colab_type": "text"
      },
      "source": [
        "<a href=\"https://colab.research.google.com/github/syedmuneeb321/LangGraph-Explorations/blob/main/Getting_Started_With_LangGraph/agent_chat_bot_with_tool.ipynb\" target=\"_parent\"><img src=\"https://colab.research.google.com/assets/colab-badge.svg\" alt=\"Open In Colab\"/></a>"
      ]
    },
    {
      "cell_type": "code",
      "execution_count": null,
      "metadata": {
        "id": "uzsEsS55MVhR"
      },
      "outputs": [],
      "source": [
        "%%capture --no-stderr\n",
        "%pip install -U langgraph langsmith langchain_google_genai tavily-python langchain_community"
      ]
    },
    {
      "cell_type": "code",
      "source": [
        "import os\n",
        "from google.colab import userdata\n",
        "\n",
        "os.environ[\"LANGCHAIN_API_KEY\"] = userdata.get('LANGCHAIN_API_KEY')\n",
        "os.environ[\"LANGCHAIN_TRACING_V2\"] = \"true\"\n",
        "os.environ[\"LANGCHAIN_PROJECT\"] = userdata.get('LANGCHAIN_PROJECT')\n",
        "\n",
        "gemini_api_key = userdata.get('GOOGLE_API_KEY')\n",
        "os.environ[\"TAVILY_API_KEY\"] = userdata.get(\"TAVILY_API_KEY\")"
      ],
      "metadata": {
        "id": "7abpTTFlMwZx"
      },
      "execution_count": null,
      "outputs": []
    },
    {
      "cell_type": "code",
      "source": [
        "from langchain_google_genai import ChatGoogleGenerativeAI\n",
        "# from langchain_core.output_parsers import StrOutputParser\n",
        "llm = ChatGoogleGenerativeAI(\n",
        "    model=\"gemini-1.5-flash\",\n",
        "    max_retries=2,\n",
        "    api_key=gemini_api_key\n",
        ")"
      ],
      "metadata": {
        "id": "mrmxaTG-NZXz"
      },
      "execution_count": null,
      "outputs": []
    },
    {
      "cell_type": "code",
      "source": [
        "from langchain_community.tools.tavily_search import TavilySearchResults\n",
        "tool = TavilySearchResults(max_results=2)\n",
        "tools = [tool]\n"
      ],
      "metadata": {
        "id": "ctCbjf_CM-QS"
      },
      "execution_count": null,
      "outputs": []
    },
    {
      "cell_type": "code",
      "source": [
        "llm_with_tools = llm.bind_tools(tools)"
      ],
      "metadata": {
        "id": "a7Mg3hqnNgrY"
      },
      "execution_count": null,
      "outputs": []
    },
    {
      "cell_type": "code",
      "source": [
        "from typing import Annotated\n",
        "\n",
        "from typing_extensions import TypedDict\n",
        "\n",
        "from langgraph.graph import StateGraph, START, END\n",
        "from langgraph.graph.message import add_messages\n",
        "\n",
        "\n",
        "class State(TypedDict):\n",
        "    messages: Annotated[list, add_messages]\n",
        "\n",
        "\n",
        "graph_builder = StateGraph(State)\n"
      ],
      "metadata": {
        "id": "gwWJkig1NUma"
      },
      "execution_count": null,
      "outputs": []
    },
    {
      "cell_type": "code",
      "source": [
        "def chat_bot(state:State)->State:\n",
        "  return {\"messages\":[llm_with_tools.invoke(state[\"messages\"])]}"
      ],
      "metadata": {
        "id": "uvNc4fc1NfkW"
      },
      "execution_count": null,
      "outputs": []
    },
    {
      "cell_type": "code",
      "source": [
        "from langgraph.prebuilt import ToolNode, tools_condition\n",
        "\n",
        "tool_node = ToolNode(tools)"
      ],
      "metadata": {
        "id": "DDFoGC0pOFJi"
      },
      "execution_count": null,
      "outputs": []
    },
    {
      "cell_type": "code",
      "source": [
        "graph_builder.add_node(\"chat_bot\",chat_bot)\n",
        "graph_builder.add_node(\"tools\",tool_node)\n",
        "\n",
        "graph_builder.add_edge(START,\"chat_bot\")\n",
        "graph_builder.add_conditional_edges(\"chat_bot\",tools_condition)\n",
        "graph_builder.add_edge(\"tools\",\"chat_bot\")\n",
        "\n",
        "app = graph_builder.compile()"
      ],
      "metadata": {
        "id": "cqgaQO4xOjgQ"
      },
      "execution_count": null,
      "outputs": []
    },
    {
      "cell_type": "code",
      "source": [
        "from IPython.display import Image, display\n",
        "\n",
        "try:\n",
        "    display(Image(app.get_graph().draw_mermaid_png()))\n",
        "except Exception:\n",
        "    # This requires some extra dependencies and is optional\n",
        "    pass"
      ],
      "metadata": {
        "colab": {
          "base_uri": "https://localhost:8080/",
          "height": 266
        },
        "id": "H9bKX7OCPeRG",
        "outputId": "5cb52e2a-d810-458a-fcf1-e843c4cbd5c4"
      },
      "execution_count": null,
      "outputs": [
        {
          "output_type": "display_data",
          "data": {
            "image/jpeg": "[encoded data removed]",
            "text/plain": [
              "<IPython.core.display.Image object>"
            ]
          },
          "metadata": {}
        }
      ]
    },
    {
      "cell_type": "code",
      "source": [
        "def start_conversation(input:str)->None:\n",
        "  input_messages = [(\"user\",input)]\n",
        "  for event in app.stream({\"messages\":input_messages}):\n",
        "    for value in event.values():\n",
        "      print(value[\"messages\"][-1].content)\n",
        "\n"
      ],
      "metadata": {
        "id": "bKYP7_ppPzOq"
      },
      "execution_count": null,
      "outputs": []
    },
    {
      "cell_type": "code",
      "source": [
        "start_conversation(input(\"enter a query\"))"
      ],
      "metadata": {
        "colab": {
          "base_uri": "https://localhost:8080/"
        },
        "id": "Llqj3N_NQ06W",
        "outputId": "8bdec278-1dfa-4bbd-c656-f402dfc6f210"
      },
      "execution_count": null,
      "outputs": [
        {
          "output_type": "stream",
          "name": "stdout",
          "text": [
            "enter a querytell me about current weather in usa\n",
            "\n",
            "[{\"url\": \"https://www.weatherapi.com/\", \"content\": \"{'location': {'name': 'Concord Regional Airport', 'region': 'Concord', 'country': 'United States of America', 'lat': 35.3856010437012, 'lon': -80.7109985351563, 'tz_id': 'America/New_York', 'localtime_epoch': 1730557509, 'localtime': '2024-11-02 10:25'}, 'current': {'last_updated_epoch': 1730556900, 'last_updated': '2024-11-02 10:15', 'temp_c': 17.9, 'temp_f': 64.2, 'is_day': 1, 'condition': {'text': 'Overcast', 'icon': '//cdn.weatherapi.com/weather/64x64/day/122.png', 'code': 1009}, 'wind_mph': 9.2, 'wind_kph': 14.8, 'wind_degree': 65, 'wind_dir': 'ENE', 'pressure_mb': 1027.0, 'pressure_in': 30.32, 'precip_mm': 0.0, 'precip_in': 0.0, 'humidity': 58, 'cloud': 100, 'feelslike_c': 17.9, 'feelslike_f': 64.2, 'windchill_c': 16.3, 'windchill_f': 61.3, 'heatindex_c': 16.4, 'heatindex_f': 61.6, 'dewpoint_c': 9.5, 'dewpoint_f': 49.1, 'vis_km': 10.0, 'vis_miles': 6.0, 'uv': 0.1, 'gust_mph': 12.3, 'gust_kph': 19.8}}\"}, {\"url\": \"https://www.wpc.ncep.noaa.gov/national_forecast/natfcst.php\", \"content\": \"Current Watches/ Warnings: Satellite and Radar Imagery GOES-East Satellite GOES-West Satellite ... 2024: Tomorrow's Forecast Saturday Nov 2, 2024: Day 3 Forecast Sunday Nov 3, 2024: Today's Forecast ... NOAA/ National Weather Service National Centers for Environmental Prediction Weather Prediction Center\"}]\n",
            "The current weather in Concord, North Carolina is overcast with a temperature of 64.2 degrees Fahrenheit. The wind is blowing from the east-northeast at 9.2 mph. The humidity is 58% and the visibility is 6 miles. \n",
            "\n"
          ]
        }
      ]
    },
    {
      "cell_type": "code",
      "source": [
        "while True:\n",
        "  query = input(\"enter a query\")\n",
        "\n",
        "  if query == \"exit\":\n",
        "    break\n",
        "  start_conversation(query)\n"
      ],
      "metadata": {
        "colab": {
          "base_uri": "https://localhost:8080/"
        },
        "id": "ibr_C70iRI65",
        "outputId": "32d31d46-f638-4b6f-d071-3bf6851467bb"
      },
      "execution_count": null,
      "outputs": [
        {
          "name": "stdout",
          "output_type": "stream",
          "text": [
            "enter a querytell me current weather in lahore in C\n",
            "I am sorry, I cannot fulfill this request. I do not have access to real-time information, including weather data. \n",
            "\n",
            "enter a querytell me current weather in karachi\n",
            "\n",
            "[{\"url\": \"https://www.weatherapi.com/\", \"content\": \"{'location': {'name': 'Karachi', 'region': 'Sindh', 'country': 'Pakistan', 'lat': 24.8667, 'lon': 67.05, 'tz_id': 'Asia/Karachi', 'localtime_epoch': 1730557634, 'localtime': '2024-11-02 19:27'}, 'current': {'last_updated_epoch': 1730556900, 'last_updated': '2024-11-02 19:15', 'temp_c': 29.2, 'temp_f': 84.6, 'is_day': 0, 'condition': {'text': 'Clear', 'icon': '//cdn.weatherapi.com/weather/64x64/night/113.png', 'code': 1000}, 'wind_mph': 10.3, 'wind_kph': 16.6, 'wind_degree': 252, 'wind_dir': 'WSW', 'pressure_mb': 1012.0, 'pressure_in': 29.88, 'precip_mm': 0.0, 'precip_in': 0.0, 'humidity': 70, 'cloud': 0, 'feelslike_c': 32.5, 'feelslike_f': 90.6, 'windchill_c': 28.2, 'windchill_f': 82.8, 'heatindex_c': 30.7, 'heatindex_f': 87.3, 'dewpoint_c': 21.2, 'dewpoint_f': 70.2, 'vis_km': 6.0, 'vis_miles': 3.0, 'uv': 0.0, 'gust_mph': 14.5, 'gust_kph': 23.4}}\"}, {\"url\": \"https://world-weather.info/forecast/pakistan/karachi/february-2024/\", \"content\": \"Detailed ⚡ Karachi Weather Forecast for February 2024 - day/night 🌡️ temperatures, precipitations - World-Weather.info. Add the current city. Search. Weather; Archive; Widgets °F. World; Pakistan; Weather in Karachi; Weather in Karachi in February 2024. ... 11 +81° +61° 12 +79° +61° 13\"}]\n",
            "The current weather in Karachi is clear with a temperature of 29.2 degrees Celsius. The wind is blowing from the west-southwest at 16.6 kilometers per hour. The humidity is 70%. \n",
            "\n",
            "enter a queryexit\n"
          ]
        }
      ]
    }
  ]
}